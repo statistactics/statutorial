{
 "cells": [
  {
   "cell_type": "code",
   "execution_count": 56,
   "metadata": {},
   "outputs": [],
   "source": [
    "import pandas as pd\n",
    "import statsmodels.api as sm\n",
    "import numpy as np\n",
    "from fredapi import Fred\n",
    "import matplotlib.pyplot as plt"
   ]
  },
  {
   "attachments": {},
   "cell_type": "markdown",
   "metadata": {},
   "source": [
    "# Read from FRED"
   ]
  },
  {
   "cell_type": "code",
   "execution_count": 6,
   "metadata": {},
   "outputs": [],
   "source": [
    "fred = Fred(\"6200247daa8548d813a5a6838a445171\")"
   ]
  },
  {
   "cell_type": "code",
   "execution_count": 18,
   "metadata": {},
   "outputs": [
    {
     "data": {
      "text/plain": [
       "2013-04-01    1570.702273\n",
       "2013-05-01    1639.842727\n",
       "2013-06-01    1618.772500\n",
       "2013-07-01    1668.675455\n",
       "2013-08-01    1670.093636\n",
       "                 ...     \n",
       "2022-08-01    4158.563043\n",
       "2022-09-01    3850.520476\n",
       "2022-10-01    3726.050952\n",
       "2022-11-01    3917.488571\n",
       "2022-12-01    4076.570000\n",
       "Freq: MS, Name: SP500, Length: 117, dtype: float64"
      ]
     },
     "execution_count": 18,
     "metadata": {},
     "output_type": "execute_result"
    }
   ],
   "source": [
    "sp500 = fred.get_series(\"SP500\", observation_start = \"2010-01-01\", observation_end = \"2022-12-01\")\n",
    "sp500.name = \"SP500\"\n",
    "sp500 = sp500.resample(\"MS\").mean().copy()\n",
    "sp500"
   ]
  },
  {
   "cell_type": "code",
   "execution_count": 59,
   "metadata": {},
   "outputs": [
    {
     "data": {
      "text/plain": [
       "2010-01-01    14764.611\n",
       "2010-02-01          NaN\n",
       "2010-03-01          NaN\n",
       "2010-04-01    14980.193\n",
       "2010-05-01          NaN\n",
       "                ...    \n",
       "2022-06-01          NaN\n",
       "2022-07-01    25723.941\n",
       "2022-08-01          NaN\n",
       "2022-09-01          NaN\n",
       "2022-10-01    26137.992\n",
       "Freq: MS, Name: US_GDP, Length: 154, dtype: float64"
      ]
     },
     "execution_count": 59,
     "metadata": {},
     "output_type": "execute_result"
    }
   ],
   "source": [
    "us_gdp = fred.get_series(\"GDP\", observation_start = \"2010-01-01\", observation_end = \"2022-12-01\")\n",
    "us_gdp.name = \"US_GDP\"\n",
    "us_gdp.resample(\"MS\").mean()"
   ]
  },
  {
   "cell_type": "code",
   "execution_count": 20,
   "metadata": {},
   "outputs": [
    {
     "data": {
      "text/html": [
       "<div>\n",
       "<style scoped>\n",
       "    .dataframe tbody tr th:only-of-type {\n",
       "        vertical-align: middle;\n",
       "    }\n",
       "\n",
       "    .dataframe tbody tr th {\n",
       "        vertical-align: top;\n",
       "    }\n",
       "\n",
       "    .dataframe thead th {\n",
       "        text-align: right;\n",
       "    }\n",
       "</style>\n",
       "<table border=\"1\" class=\"dataframe\">\n",
       "  <thead>\n",
       "    <tr style=\"text-align: right;\">\n",
       "      <th></th>\n",
       "      <th>SP500</th>\n",
       "      <th>US_GDP</th>\n",
       "    </tr>\n",
       "  </thead>\n",
       "  <tbody>\n",
       "    <tr>\n",
       "      <th>2013-04-01</th>\n",
       "      <td>1570.702273</td>\n",
       "      <td>16699.551</td>\n",
       "    </tr>\n",
       "    <tr>\n",
       "      <th>2013-07-01</th>\n",
       "      <td>1668.675455</td>\n",
       "      <td>16911.068</td>\n",
       "    </tr>\n",
       "    <tr>\n",
       "      <th>2013-10-01</th>\n",
       "      <td>1720.026522</td>\n",
       "      <td>17133.114</td>\n",
       "    </tr>\n",
       "    <tr>\n",
       "      <th>2014-01-01</th>\n",
       "      <td>1822.356667</td>\n",
       "      <td>17144.281</td>\n",
       "    </tr>\n",
       "    <tr>\n",
       "      <th>2014-04-01</th>\n",
       "      <td>1864.263333</td>\n",
       "      <td>17462.703</td>\n",
       "    </tr>\n",
       "    <tr>\n",
       "      <th>2014-07-01</th>\n",
       "      <td>1973.100000</td>\n",
       "      <td>17743.227</td>\n",
       "    </tr>\n",
       "    <tr>\n",
       "      <th>2014-10-01</th>\n",
       "      <td>1937.274348</td>\n",
       "      <td>17852.540</td>\n",
       "    </tr>\n",
       "    <tr>\n",
       "      <th>2015-01-01</th>\n",
       "      <td>2028.178500</td>\n",
       "      <td>17991.348</td>\n",
       "    </tr>\n",
       "    <tr>\n",
       "      <th>2015-04-01</th>\n",
       "      <td>2094.862857</td>\n",
       "      <td>18193.707</td>\n",
       "    </tr>\n",
       "    <tr>\n",
       "      <th>2015-07-01</th>\n",
       "      <td>2094.143636</td>\n",
       "      <td>18306.960</td>\n",
       "    </tr>\n",
       "    <tr>\n",
       "      <th>2015-10-01</th>\n",
       "      <td>2024.812727</td>\n",
       "      <td>18332.079</td>\n",
       "    </tr>\n",
       "    <tr>\n",
       "      <th>2016-01-01</th>\n",
       "      <td>1918.597895</td>\n",
       "      <td>18425.306</td>\n",
       "    </tr>\n",
       "    <tr>\n",
       "      <th>2016-04-01</th>\n",
       "      <td>2075.535238</td>\n",
       "      <td>18611.617</td>\n",
       "    </tr>\n",
       "    <tr>\n",
       "      <th>2016-07-01</th>\n",
       "      <td>2148.902000</td>\n",
       "      <td>18775.459</td>\n",
       "    </tr>\n",
       "    <tr>\n",
       "      <th>2016-10-01</th>\n",
       "      <td>2143.020952</td>\n",
       "      <td>18968.041</td>\n",
       "    </tr>\n",
       "    <tr>\n",
       "      <th>2017-01-01</th>\n",
       "      <td>2275.116000</td>\n",
       "      <td>19148.194</td>\n",
       "    </tr>\n",
       "    <tr>\n",
       "      <th>2017-04-01</th>\n",
       "      <td>2359.309474</td>\n",
       "      <td>19304.506</td>\n",
       "    </tr>\n",
       "    <tr>\n",
       "      <th>2017-07-01</th>\n",
       "      <td>2454.102500</td>\n",
       "      <td>19561.896</td>\n",
       "    </tr>\n",
       "    <tr>\n",
       "      <th>2017-10-01</th>\n",
       "      <td>2556.997273</td>\n",
       "      <td>19894.750</td>\n",
       "    </tr>\n",
       "    <tr>\n",
       "      <th>2018-01-01</th>\n",
       "      <td>2789.803810</td>\n",
       "      <td>20155.486</td>\n",
       "    </tr>\n",
       "    <tr>\n",
       "      <th>2018-04-01</th>\n",
       "      <td>2653.625238</td>\n",
       "      <td>20470.197</td>\n",
       "    </tr>\n",
       "    <tr>\n",
       "      <th>2018-07-01</th>\n",
       "      <td>2793.643333</td>\n",
       "      <td>20687.278</td>\n",
       "    </tr>\n",
       "    <tr>\n",
       "      <th>2018-10-01</th>\n",
       "      <td>2785.464783</td>\n",
       "      <td>20819.269</td>\n",
       "    </tr>\n",
       "    <tr>\n",
       "      <th>2019-01-01</th>\n",
       "      <td>2607.390000</td>\n",
       "      <td>21013.085</td>\n",
       "    </tr>\n",
       "    <tr>\n",
       "      <th>2019-04-01</th>\n",
       "      <td>2903.800000</td>\n",
       "      <td>21272.448</td>\n",
       "    </tr>\n",
       "    <tr>\n",
       "      <th>2019-07-01</th>\n",
       "      <td>2996.113636</td>\n",
       "      <td>21531.839</td>\n",
       "    </tr>\n",
       "    <tr>\n",
       "      <th>2019-10-01</th>\n",
       "      <td>2977.675217</td>\n",
       "      <td>21706.532</td>\n",
       "    </tr>\n",
       "    <tr>\n",
       "      <th>2020-01-01</th>\n",
       "      <td>3278.202857</td>\n",
       "      <td>21538.032</td>\n",
       "    </tr>\n",
       "    <tr>\n",
       "      <th>2020-04-01</th>\n",
       "      <td>2761.975238</td>\n",
       "      <td>19636.731</td>\n",
       "    </tr>\n",
       "    <tr>\n",
       "      <th>2020-07-01</th>\n",
       "      <td>3207.619091</td>\n",
       "      <td>21362.428</td>\n",
       "    </tr>\n",
       "    <tr>\n",
       "      <th>2020-10-01</th>\n",
       "      <td>3418.701364</td>\n",
       "      <td>21704.706</td>\n",
       "    </tr>\n",
       "    <tr>\n",
       "      <th>2021-01-01</th>\n",
       "      <td>3793.748421</td>\n",
       "      <td>22313.850</td>\n",
       "    </tr>\n",
       "    <tr>\n",
       "      <th>2021-04-01</th>\n",
       "      <td>4141.176190</td>\n",
       "      <td>23046.934</td>\n",
       "    </tr>\n",
       "    <tr>\n",
       "      <th>2021-07-01</th>\n",
       "      <td>4363.712857</td>\n",
       "      <td>23550.420</td>\n",
       "    </tr>\n",
       "    <tr>\n",
       "      <th>2021-10-01</th>\n",
       "      <td>4460.707143</td>\n",
       "      <td>24349.121</td>\n",
       "    </tr>\n",
       "    <tr>\n",
       "      <th>2022-01-01</th>\n",
       "      <td>4573.815500</td>\n",
       "      <td>24740.480</td>\n",
       "    </tr>\n",
       "    <tr>\n",
       "      <th>2022-04-01</th>\n",
       "      <td>4391.296000</td>\n",
       "      <td>25248.476</td>\n",
       "    </tr>\n",
       "    <tr>\n",
       "      <th>2022-07-01</th>\n",
       "      <td>3911.729500</td>\n",
       "      <td>25723.941</td>\n",
       "    </tr>\n",
       "    <tr>\n",
       "      <th>2022-10-01</th>\n",
       "      <td>3726.050952</td>\n",
       "      <td>26137.992</td>\n",
       "    </tr>\n",
       "  </tbody>\n",
       "</table>\n",
       "</div>"
      ],
      "text/plain": [
       "                  SP500     US_GDP\n",
       "2013-04-01  1570.702273  16699.551\n",
       "2013-07-01  1668.675455  16911.068\n",
       "2013-10-01  1720.026522  17133.114\n",
       "2014-01-01  1822.356667  17144.281\n",
       "2014-04-01  1864.263333  17462.703\n",
       "2014-07-01  1973.100000  17743.227\n",
       "2014-10-01  1937.274348  17852.540\n",
       "2015-01-01  2028.178500  17991.348\n",
       "2015-04-01  2094.862857  18193.707\n",
       "2015-07-01  2094.143636  18306.960\n",
       "2015-10-01  2024.812727  18332.079\n",
       "2016-01-01  1918.597895  18425.306\n",
       "2016-04-01  2075.535238  18611.617\n",
       "2016-07-01  2148.902000  18775.459\n",
       "2016-10-01  2143.020952  18968.041\n",
       "2017-01-01  2275.116000  19148.194\n",
       "2017-04-01  2359.309474  19304.506\n",
       "2017-07-01  2454.102500  19561.896\n",
       "2017-10-01  2556.997273  19894.750\n",
       "2018-01-01  2789.803810  20155.486\n",
       "2018-04-01  2653.625238  20470.197\n",
       "2018-07-01  2793.643333  20687.278\n",
       "2018-10-01  2785.464783  20819.269\n",
       "2019-01-01  2607.390000  21013.085\n",
       "2019-04-01  2903.800000  21272.448\n",
       "2019-07-01  2996.113636  21531.839\n",
       "2019-10-01  2977.675217  21706.532\n",
       "2020-01-01  3278.202857  21538.032\n",
       "2020-04-01  2761.975238  19636.731\n",
       "2020-07-01  3207.619091  21362.428\n",
       "2020-10-01  3418.701364  21704.706\n",
       "2021-01-01  3793.748421  22313.850\n",
       "2021-04-01  4141.176190  23046.934\n",
       "2021-07-01  4363.712857  23550.420\n",
       "2021-10-01  4460.707143  24349.121\n",
       "2022-01-01  4573.815500  24740.480\n",
       "2022-04-01  4391.296000  25248.476\n",
       "2022-07-01  3911.729500  25723.941\n",
       "2022-10-01  3726.050952  26137.992"
      ]
     },
     "execution_count": 20,
     "metadata": {},
     "output_type": "execute_result"
    }
   ],
   "source": [
    "df0 = pd.concat([sp500, us_gdp], axis = 1, join = \"inner\")\n",
    "df0 "
   ]
  },
  {
   "cell_type": "code",
   "execution_count": 21,
   "metadata": {},
   "outputs": [
    {
     "data": {
      "text/plain": [
       "<AxesSubplot:>"
      ]
     },
     "execution_count": 21,
     "metadata": {},
     "output_type": "execute_result"
    },
    {
     "data": {
      "image/png": "[encoded data removed]",
      "text/plain": [
       "<Figure size 640x480 with 1 Axes>"
      ]
     },
     "metadata": {},
     "output_type": "display_data"
    }
   ],
   "source": [
    "df0.plot()"
   ]
  },
  {
   "cell_type": "markdown",
   "metadata": {},
   "source": [
    "# Testing ChatGPT's implementation"
   ]
  },
  {
   "cell_type": "code",
   "execution_count": 42,
   "metadata": {},
   "outputs": [],
   "source": [
    "import numpy as np\n",
    "from statsmodels.tsa.ar_model import AutoReg, ar_select_order\n",
    "from statsmodels.tsa.stattools import ccf\n",
    "\n",
    "def prewhiten(x, y, x_model=AutoReg, ylab='CCF', **kwargs):\n",
    "    \n",
    "    def filter_mod(x, model):\n",
    "        if len(model.params) >= 1:\n",
    "            x = np.convolve(x, [1, -model.params], mode='same')\n",
    "        elif len(model.k_ar) >= 1 and any(model.k_ar != 0):\n",
    "            x = AutoReg(endog=x).filter(-model.k_ar, method='recursive')\n",
    "        elif len(model.polynomial_ar) >= 1 and any(model.polynomial_ar != 0):\n",
    "            x = np.array([x])  # wrap scalar in numpy array\n",
    "            x = np.convolve(x, [1, -model.polynomial_ar], mode='same')\n",
    "            x = x[0]  # unwrap array to scalar\n",
    "        return x\n",
    "    \n",
    "    if x_model is not AutoReg:\n",
    "        # x_model_fit = x_model(x, lags = ar_select_order(x, maxlag = 12, ic = \"aic\").ar_lags).fit(**kwargs)\n",
    "        x_model_fit = x_model(x).fit(**kwargs)\n",
    "\n",
    "        x = filter_mod(x, model=x_model_fit)\n",
    "        y = filter_mod(y, model=x_model_fit)\n",
    "    else:\n",
    "        x_model_fit = x_model(x, lags = ar_select_order(x, maxlag = 12, ic = \"aic\").ar_lags).fit(**kwargs)\n",
    "        x = np.convolve(x, [1, -x_model_fit.params], mode='same')\n",
    "        y = np.convolve(y, [1, -x_model_fit.params], mode='same')\n",
    "    ccf_xy = ccf(x, y, adjusted=True)\n",
    "    return {'ccf': ccf_xy, 'model': x_model_fit}\n"
   ]
  },
  {
   "cell_type": "code",
   "execution_count": 52,
   "metadata": {},
   "outputs": [],
   "source": [
    "import numpy as np\n",
    "from statsmodels.tsa.ar_model import AutoReg, ar_select_order\n",
    "from statsmodels.tsa.stattools import ccf\n",
    "\n",
    "def prewhiten(x, y, x_model=AutoReg, ylab='CCF', **kwargs):\n",
    "    \n",
    "    x = np.array(x).astype(float)\n",
    "    y = np.array(y).astype(float)\n",
    "\n",
    "    def filter_mod(x, model):\n",
    "        if len(model.params) >= 1:\n",
    "            x = np.convolve(x, [1, -model.params], mode='same')\n",
    "        elif len(model.k_ar) >= 1 and any(model.k_ar != 0):\n",
    "            x = AutoReg(endog=x).filter(-model.k_ar, method='recursive')\n",
    "        elif len(model.polynomial_ar) >= 1 and any(model.polynomial_ar != 0):\n",
    "            x = np.convolve(x, [1, -model.polynomial_ar], mode='same')\n",
    "            x = np.array([x])  # wrap scalar in numpy array\n",
    "            x = np.convolve(x, [1, -model.polynomial_ar], mode='same')\n",
    "            x = x[0]  # unwrap array to scalar\n",
    "            return x\n",
    "    \n",
    "    if x_model is not AutoReg:\n",
    "        # x_model_fit = x_model(x, lags = ar_select_order(x, maxlag = 12, ic = \"aic\").ar_lags).fit(**kwargs)\n",
    "        x_model_fit = x_model(x).fit(**kwargs)\n",
    "\n",
    "        x = filter_mod(x, model=x_model_fit)\n",
    "        y = filter_mod(y, model=x_model_fit)\n",
    "    else:\n",
    "        x_model_fit = x_model(x, lags = ar_select_order(x, maxlag = 12, ic = \"aic\").ar_lags).fit(**kwargs)\n",
    "        x = np.convolve(x, [1, -x_model_fit.params], mode='same')\n",
    "        y = np.convolve(y, [1, -x_model_fit.params], mode='same')\n",
    "    \n",
    "    ccf_xy = ccf(x, y, adjusted=True)\n",
    "    return {'ccf': ccf_xy, 'model': x_model_fit}\n"
   ]
  },
  {
   "cell_type": "code",
   "execution_count": 57,
   "metadata": {},
   "outputs": [
    {
     "data": {
      "text/plain": [
       "<StemContainer object of 3 artists>"
      ]
     },
     "execution_count": 57,
     "metadata": {},
     "output_type": "execute_result"
    },
    {
     "data": {
      "image/png": "[encoded data removed]",
      "text/plain": [
       "<Figure size 640x480 with 1 Axes>"
      ]
     },
     "metadata": {},
     "output_type": "display_data"
    }
   ],
   "source": [
    "plt.stem(ccf(df0[\"US_GDP\"].values, df0[\"SP500\"].values))"
   ]
  },
  {
   "cell_type": "code",
   "execution_count": 51,
   "metadata": {},
   "outputs": [
    {
     "data": {
      "text/plain": [
       "array([16699.551, 16911.068, 17133.114, 17144.281, 17462.703, 17743.227,\n",
       "       17852.54 , 17991.348, 18193.707, 18306.96 , 18332.079, 18425.306,\n",
       "       18611.617, 18775.459, 18968.041, 19148.194, 19304.506, 19561.896,\n",
       "       19894.75 , 20155.486, 20470.197, 20687.278, 20819.269, 21013.085,\n",
       "       21272.448, 21531.839, 21706.532, 21538.032, 19636.731, 21362.428,\n",
       "       21704.706, 22313.85 , 23046.934, 23550.42 , 24349.121, 24740.48 ,\n",
       "       25248.476, 25723.941, 26137.992])"
      ]
     },
     "execution_count": 51,
     "metadata": {},
     "output_type": "execute_result"
    }
   ],
   "source": [
    "df0[\"US_GDP\"].values"
   ]
  },
  {
   "cell_type": "code",
   "execution_count": null,
   "metadata": {},
   "outputs": [],
   "source": []
  }
 ],
 "metadata": {
  "kernelspec": {
   "display_name": "base",
   "language": "python",
   "name": "python3"
  },
  "language_info": {
   "codemirror_mode": {
    "name": "ipython",
    "version": 3
   },
   "file_extension": ".py",
   "mimetype": "text/x-python",
   "name": "python",
   "nbconvert_exporter": "python",
   "pygments_lexer": "ipython3",
   "version": "3.9.13"
  },
  "orig_nbformat": 4,
  "vscode": {
   "interpreter": {
    "hash": "aff7a52b5f2d25de0542f655ae94d03df318905bab7ee1b8a302eda1e5e7edfb"
   }
  }
 },
 "nbformat": 4,
 "nbformat_minor": 2
}
